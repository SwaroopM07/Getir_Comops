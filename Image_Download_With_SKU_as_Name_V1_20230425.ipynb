{
 "cells": [
  {
   "cell_type": "code",
   "execution_count": 27,
   "id": "1a7b9a40",
   "metadata": {},
   "outputs": [],
   "source": [
    "import requests\n",
    "import os\n",
    "import pandas as pd\n",
    "\n",
    "def download_images_from_dataframe(df):\n",
    "    for index, row in df.iterrows():\n",
    "        url = row['picurl_en']\n",
    "        filename = str(row['SKU'])\n",
    "        response = requests.get(url)\n",
    "        if response.status_code == 200:\n",
    "            file_path = os.path.join('/Users/swaroopbasavarajmusti/Desktop/New_Images', filename + '.jpg')\n",
    "            with open(file_path, 'wb') as f:\n",
    "                f.write(response.content)\n",
    "                print(f\"Downloaded {url} as {filename}\")\n",
    "        else:\n",
    "            print(f\"Error: {url} returned status code {response.status_code}\")\n"
   ]
  },
  {
   "cell_type": "code",
   "execution_count": 15,
   "id": "33cc42b8",
   "metadata": {},
   "outputs": [],
   "source": [
    "Path_A = \"/Users/swaroopbasavarajmusti/Desktop/G10andGetirBuyuk_AllProducts_without_TRDE_20230731.xlsx\"\n",
    "Path_B = \"/Users/swaroopbasavarajmusti/Desktop/New_Products.xlsx\"\n",
    "#Path_A = \"/Users/swaroopbasavarajmusti/Downloads/\"+\"G10andGetirBuyuk_AllProducts_without_TRDE_\"+today +\".xlsx\"\n",
    "\n",
    "Assortment = pd.read_excel(Path_A)\n",
    "\n",
    "#change the marketplace product id column name (not required but to avoid confusion)\n",
    "\n",
    "Assortment.rename(columns={'marketproduct_id':'Getir Product Id'}, inplace=True)\n",
    "\n",
    "#select only required columns\n",
    "\n",
    "Assortment = Assortment[['Getir Product Id','product_barcode','picurl_en']]\n",
    "\n",
    "#get the list of the products that needs to be downloaded\n",
    "\n",
    "New_Products = pd.read_excel(Path_B)\n",
    "\n",
    "# download dataset with ids and skus and filter only the ones that we want\n",
    "Download_Dataset = pd.merge(New_Products, Assortment, on='Getir Product Id', how='left')\n",
    "\n",
    "#Download Images that you want to add\n",
    "download_images_from_dataframe(Download_Dataset)\n",
    "\n",
    "\n",
    "\n"
   ]
  },
  {
   "cell_type": "code",
   "execution_count": null,
   "id": "bbd5d4b0",
   "metadata": {},
   "outputs": [],
   "source": []
  }
 ],
 "metadata": {
  "kernelspec": {
   "display_name": "Python 3 (ipykernel)",
   "language": "python",
   "name": "python3"
  },
  "language_info": {
   "codemirror_mode": {
    "name": "ipython",
    "version": 3
   },
   "file_extension": ".py",
   "mimetype": "text/x-python",
   "name": "python",
   "nbconvert_exporter": "python",
   "pygments_lexer": "ipython3",
   "version": "3.9.12"
  }
 },
 "nbformat": 4,
 "nbformat_minor": 5
}
