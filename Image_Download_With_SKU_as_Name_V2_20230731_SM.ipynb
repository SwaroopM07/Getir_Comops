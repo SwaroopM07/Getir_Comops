{
 "cells": [
  {
   "cell_type": "code",
   "execution_count": 1,
   "id": "08b1da17",
   "metadata": {},
   "outputs": [
    {
     "name": "stdout",
     "output_type": "stream",
     "text": [
      "File saved successfully.\n",
      "File saved successfully.\n",
      "File saved successfully.\n",
      "File saved successfully.\n",
      "File saved successfully.\n",
      "File saved successfully.\n",
      "File saved successfully.\n",
      "File saved successfully.\n",
      "File saved successfully.\n",
      "File saved successfully.\n",
      "File saved successfully.\n",
      "File saved successfully.\n",
      "File saved successfully.\n",
      "File saved successfully.\n",
      "File saved successfully.\n",
      "File saved successfully.\n",
      "File saved successfully.\n",
      "File saved successfully.\n",
      "File saved successfully.\n",
      "File saved successfully.\n",
      "File saved successfully.\n",
      "File saved successfully.\n",
      "File saved successfully.\n",
      "File saved successfully.\n",
      "File saved successfully.\n",
      "File saved successfully.\n",
      "File saved successfully.\n",
      "File saved successfully.\n",
      "File saved successfully.\n",
      "File saved successfully.\n",
      "File saved successfully.\n",
      "File saved successfully.\n",
      "File saved successfully.\n",
      "File saved successfully.\n",
      "File saved successfully.\n",
      "File saved successfully.\n",
      "File saved successfully.\n",
      "File saved successfully.\n",
      "File saved successfully.\n",
      "File saved successfully.\n",
      "File saved successfully.\n",
      "File saved successfully.\n",
      "File saved successfully.\n",
      "File saved successfully.\n",
      "File saved successfully.\n",
      "File saved successfully.\n",
      "File saved successfully.\n",
      "File saved successfully.\n",
      "File saved successfully.\n",
      "File saved successfully.\n",
      "File saved successfully.\n"
     ]
    }
   ],
   "source": [
    "#import packages\n",
    "import pandas as pd\n",
    "import numpy as np\n",
    "import requests\n",
    "Path_A = \"/Users/swaroopbasavarajmusti/Desktop/New_images.xlsx\"\n",
    "image_list = pd.read_excel(Path_A)\n",
    "\n",
    "def save_file_from_link(url, save_path):\n",
    "    response = requests.get(url)\n",
    "    if response.status_code == 200:\n",
    "        with open(save_path, 'wb') as file:\n",
    "            file.write(response.content)\n",
    "        print('File saved successfully.')\n",
    "    else:\n",
    "        print('Failed to save the file.')\n",
    "\n",
    "\n",
    "#save_file_from_link(url, save_path)\n",
    "for ind, row in image_list.iterrows():\n",
    "    link = image_list.loc[ind, 'picurl_en']\n",
    "    name = image_list.loc[ind, 'product_barcode']\n",
    "    save_path = '/Users/swaroopbasavarajmusti/Desktop/New_Images/'+ str(name)+'.jpg'\n",
    "    save_file_from_link(link, save_path)"
   ]
  },
  {
   "cell_type": "code",
   "execution_count": null,
   "id": "3825fcdf",
   "metadata": {},
   "outputs": [],
   "source": []
  }
 ],
 "metadata": {
  "kernelspec": {
   "display_name": "Python 3 (ipykernel)",
   "language": "python",
   "name": "python3"
  },
  "language_info": {
   "codemirror_mode": {
    "name": "ipython",
    "version": 3
   },
   "file_extension": ".py",
   "mimetype": "text/x-python",
   "name": "python",
   "nbconvert_exporter": "python",
   "pygments_lexer": "ipython3",
   "version": "3.9.12"
  }
 },
 "nbformat": 4,
 "nbformat_minor": 5
}
