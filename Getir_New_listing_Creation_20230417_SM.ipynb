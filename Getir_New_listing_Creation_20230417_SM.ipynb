{
 "cells": [
  {
   "cell_type": "code",
   "execution_count": 2,
   "id": "a3442d9c",
   "metadata": {},
   "outputs": [],
   "source": [
    "#import packages\n",
    "import pandas as pd\n",
    "import numpy as np\n",
    "from datetime import datetime as dt\n",
    "today = dt.now()\n",
    "\n",
    "#Read the downloaded report\n",
    "Path_A = \"/Users/swaroopbasavarajmusti/Desktop/G10andGetirBuyuk_AllProducts_without_TRDE_20230512.xlsx\"\n",
    "#Path_A = /Users/swaroopbasavarajmusti/Desktop/G10andGetirBuyuk_AllProducts_without_TRDE_20230505.xls\n",
    "\n",
    "Assortment = pd.read_excel(Path_A)\n",
    "\n",
    "#change the marketplace product id column name (not required but to avoid confusion)\n",
    "\n",
    "Assortment.rename(columns={'marketproduct_id':'product_id'}, inplace=True)\n",
    "\n",
    "#select only required columns\n",
    "\n",
    "Assortment = Assortment[['product_id','product_barcode','inbox_barcode','parentproduct_name_en','segment_name','brand_name','manufacturer_name','supplier_names',\\\n",
    "                        'category_name_en','category_name_en','mastercategoriesv2_name_en','g10_price','exp_days_lifetime',\\\n",
    "                        'exp_days_allowed','exp_days_warning','exp_days_dead','createdatl','updatedatl','transfer_groups',]]\n",
    "\n",
    "#sort the values based on the date created\n",
    "\n",
    "assortment_2 = Assortment.sort_values(by=\"createdatl\",ascending = False)\n",
    "\n",
    "#Count the number of days between created date and today\n",
    "\n",
    "for ind, row in assortment_2.iterrows():\n",
    "    assortment_2['Diff'] =  today - assortment_2['createdatl']\n",
    "\n",
    "# filter for the products created on the last 7 days\n",
    "    \n",
    "assortment_2['Diff'] = pd.to_timedelta(assortment_2.Diff, errors='coerce').dt.days\n",
    "assortment_2 = assortment_2[assortment_2.Diff < 7].reset_index(drop = True)\n",
    "\n",
    "#Create a ouptut to excel\n",
    "\n",
    "assortment_2.to_excel(\"/Users/swaroopbasavarajmusti/Desktop/New_listing.xlsx\")\n",
    "\n"
   ]
  },
  {
   "cell_type": "code",
   "execution_count": null,
   "id": "00948be8",
   "metadata": {},
   "outputs": [],
   "source": []
  }
 ],
 "metadata": {
  "kernelspec": {
   "display_name": "Python 3 (ipykernel)",
   "language": "python",
   "name": "python3"
  },
  "language_info": {
   "codemirror_mode": {
    "name": "ipython",
    "version": 3
   },
   "file_extension": ".py",
   "mimetype": "text/x-python",
   "name": "python",
   "nbconvert_exporter": "python",
   "pygments_lexer": "ipython3",
   "version": "3.9.12"
  }
 },
 "nbformat": 4,
 "nbformat_minor": 5
}
