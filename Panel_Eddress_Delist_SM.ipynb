{
 "cells": [
  {
   "cell_type": "code",
   "execution_count": 3,
   "id": "a51d231a",
   "metadata": {},
   "outputs": [],
   "source": [
    "#import packages\n",
    "import pandas as pd\n",
    "import numpy as np\n",
    "from datetime import datetime as dt\n",
    "today = dt.now()\n",
    "\n",
    "#Read the downloaded report\n",
    "Path_A = \"/Users/swaroopbasavarajmusti/Desktop/G10andGetirBuyuk_AllProducts_without_TRDE.xlsx\"\n",
    "\n",
    "Assortment = pd.read_excel(Path_A)\n",
    "\n",
    "#change the marketplace product id column name (not required but to avoid confusion)\n",
    "\n",
    "Assortment.rename(columns={'marketproduct_id':'Getir Product Id'}, inplace=True)\n",
    "\n",
    "#select only required columns\n",
    "\n",
    "Assortment = Assortment[['createdatl','updatedatl','Getir Product Id','product_barcode','marketproduct_name_de',\\\n",
    "'segment_name','brand_name','category_name_en','subcategory_name_en','supplier_names',\\\n",
    "'net_net_buying_price_with_vat','list_price','g10_price','g10_struck_price','transfer_groups','isvisible']]\n",
    "\n",
    "#filter unwanted segments from the dataframe\n",
    "Segment_filters = [\"Asset\", \"None\", \"Test\"]\n",
    "Assortment = Assortment[~Assortment.segment_name.isin(Segment_filters)].reset_index(drop = True)\n",
    "\n",
    "#sort the values based on the date created\n",
    "Assortment = Assortment.sort_values(by=\"createdatl\",ascending = False).reset_index(drop = True)\n",
    "\n",
    "#------------------------------\n",
    "\n",
    "#creating dictionary to match the product ids\n",
    "\n",
    "Path_B = \"/Users/swaroopbasavarajmusti/Desktop/Inventory.xls\"\n",
    "Dictionary = pd.read_excel(Path_B)\n",
    "\n",
    "Dictionary = Dictionary[Dictionary['Getir Product Id'].notna()].reset_index(drop = True)\n",
    "Dictionary = Dictionary[['Getir Product Id','Product Id','Product SKU','Enabled / Disabled']]\n",
    "\n",
    "#------------------------------\n",
    "\n",
    "#left joining Panel assortment with eddress ID dictionary\n",
    "\n",
    "Assortment_Inventory = pd.merge(Assortment, \n",
    "                      Dictionary, \n",
    "                      on ='Getir Product Id', \n",
    "                      how ='left')\n",
    "\n",
    "Update_list = Assortment_Inventory.loc[Assortment_Inventory['segment_name'] == 'Delist'].reset_index(drop = True)\n",
    "Update_list = Update_list.loc[Update_list['Product Id'].notna()].reset_index(drop = True)\n",
    "Update_list = Update_list.loc[Update_list['Enabled / Disabled'] == 'Enabled'].reset_index(drop = True)\n",
    "Update_list = Update_list[['Getir Product Id','Product Id','Product SKU',]]\n",
    "Update_list.to_excel(\"/Users/swaroopbasavarajmusti/Desktop/Eddress_Status_Update_list.xlsx\")"
   ]
  },
  {
   "cell_type": "code",
   "execution_count": null,
   "id": "5d7ef6a8",
   "metadata": {},
   "outputs": [],
   "source": []
  }
 ],
 "metadata": {
  "kernelspec": {
   "display_name": "Python 3 (ipykernel)",
   "language": "python",
   "name": "python3"
  },
  "language_info": {
   "codemirror_mode": {
    "name": "ipython",
    "version": 3
   },
   "file_extension": ".py",
   "mimetype": "text/x-python",
   "name": "python",
   "nbconvert_exporter": "python",
   "pygments_lexer": "ipython3",
   "version": "3.9.12"
  }
 },
 "nbformat": 4,
 "nbformat_minor": 5
}
